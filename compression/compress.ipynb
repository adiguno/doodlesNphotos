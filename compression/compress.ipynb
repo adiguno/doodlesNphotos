{
 "cells": [
  {
   "cell_type": "code",
   "execution_count": 4,
   "metadata": {},
   "outputs": [],
   "source": [
    "import os\n",
    "from PIL import Image"
   ]
  },
  {
   "cell_type": "code",
   "execution_count": 5,
   "metadata": {},
   "outputs": [
    {
     "name": "stdout",
     "output_type": "stream",
     "text": [
      "image size: 4027.02 kb\n",
      "image size: 5675.16 kb\n",
      "image size: 5021.10 kb\n",
      "image size: 4824.39 kb\n",
      "image size: 147.18 kb\n",
      "image size: 7839.65 kb\n"
     ]
    }
   ],
   "source": [
    "# original imag size\n",
    "\n",
    "scriptDir = os.getcwd()\n",
    "impath = os.path.join(scriptDir, \"images/\")\n",
    "\n",
    "for i in range(1,7):\n",
    "    imageName = '{}.PNG'.format(i)\n",
    "    # print(imageName)\n",
    "    imageName = impath + imageName\n",
    "    im = Image.open(imageName)\n",
    "\n",
    "    size = os.path.getsize(imageName) / 1024\n",
    "\n",
    "    # print('image dimensions: {}'.format(im.size))\n",
    "    print('image size: {:.2f} kb'.format(size))"
   ]
  },
  {
   "cell_type": "code",
   "execution_count": 6,
   "metadata": {},
   "outputs": [
    {
     "name": "stdout",
     "output_type": "stream",
     "text": [
      "compressed 96 image size: 3022.70 kb\n",
      "compressed 96 image size: 4250.36 kb\n",
      "compressed 96 image size: 3727.51 kb\n",
      "compressed 96 image size: 3376.22 kb\n",
      "compressed 96 image size: 765.58 kb\n",
      "compressed 96 image size: 6278.75 kb\n"
     ]
    }
   ],
   "source": [
    "compressed96Path = os.path.join(scriptDir, \"compressed_96/\")\n",
    "for i in range(1,7):\n",
    "    imageName = '{}.PNG'.format(i)\n",
    "    originalImagePath = impath + imageName\n",
    "    im = Image.open(originalImagePath)\n",
    "\n",
    "    compressedImagePath = compressed96Path + imageName\n",
    "    # im.save(compressedImagePath, optimize=True, quality=96)\n",
    "\n",
    "    size = os.path.getsize(compressedImagePath) / 1024\n",
    "    print('compressed 96 image size: {:.2f} kb'.format(size))"
   ]
  },
  {
   "cell_type": "code",
   "execution_count": 7,
   "metadata": {},
   "outputs": [
    {
     "name": "stdout",
     "output_type": "stream",
     "text": [
      "lighthouse image size: 3022.70 kb\n",
      "lighthouse image size: 4250.36 kb\n",
      "lighthouse image size: 3727.51 kb\n",
      "lighthouse image size: 3376.22 kb\n",
      "lighthouse image size: 765.58 kb\n",
      "lighthouse image size: 6278.75 kb\n"
     ]
    }
   ],
   "source": [
    "# lighthouse potential savings\n",
    "diff1 = (7839.7  - 6901.7  ) / 7839.7 * 100\n",
    "diff2 = (5675.2  - 4996.1  ) / 5675.2 * 100\n",
    "diff3 = (5021.1  - 4420.3  ) / 5021.1 * 100\n",
    "diff4 = (4824.4  - 4247.2  ) / 4824.4 * 100\n",
    "diff5 = (4027.0  - 3169.6  ) / 4027.0 * 100\n",
    "diff6 = (147.2  - 83.8 ) / 147.2 * 100\n",
    "qualities = [diff1,diff2,diff3,diff4,diff5,diff6]\n",
    "\n",
    "lightHousePath = os.path.join(scriptDir, \"lighthouse/\")\n",
    "for i in range(1,7):\n",
    "    imageName = '{}.PNG'.format(i)\n",
    "    originalImagePath = impath + imageName\n",
    "    im = Image.open(originalImagePath)\n",
    "\n",
    "    lightHouseImagePath = lightHousePath + imageName\n",
    "    # im.save(lightHouseImagePath, optimize=True, quality=int(qualities[i-1]))\n",
    "\n",
    "    size = os.path.getsize(lightHouseImagePath) / 1024\n",
    "    print('lighthouse image size: {:.2f} kb'.format(size))"
   ]
  },
  {
   "cell_type": "code",
   "execution_count": 8,
   "metadata": {},
   "outputs": [
    {
     "name": "stdout",
     "output_type": "stream",
     "text": [
      "[11.964743548860287, 11.966098111079775, 11.965505566509334, 11.964182074454852, 21.291283834119696, 43.07065217391305]\n"
     ]
    }
   ],
   "source": [
    "diff1 = (7839.7  - 6901.7  ) / 7839.7 * 100\n",
    "diff2 = (5675.2  - 4996.1  ) / 5675.2 * 100\n",
    "diff3 = (5021.1  - 4420.3  ) / 5021.1 * 100\n",
    "diff4 = (4824.4  - 4247.2  ) / 4824.4 * 100\n",
    "diff5 = (4027.0  - 3169.6  ) / 4027.0 * 100\n",
    "diff6 = (147.2  - 83.8 ) / 147.2 * 100\n",
    "qualities = [diff1,diff2,diff3,diff4,diff5,diff6]\n",
    "print(qualities)"
   ]
  }
 ],
 "metadata": {
  "kernelspec": {
   "display_name": "Python 3.8.9 64-bit",
   "language": "python",
   "name": "python3"
  },
  "language_info": {
   "codemirror_mode": {
    "name": "ipython",
    "version": 3
   },
   "file_extension": ".py",
   "mimetype": "text/x-python",
   "name": "python",
   "nbconvert_exporter": "python",
   "pygments_lexer": "ipython3",
   "version": "3.8.9"
  },
  "orig_nbformat": 4,
  "vscode": {
   "interpreter": {
    "hash": "20bf69066c0dd38d51965b69d5e1b6e387082e3198ba56e97997ac55f4e50ad0"
   }
  }
 },
 "nbformat": 4,
 "nbformat_minor": 2
}
